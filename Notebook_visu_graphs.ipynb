{
 "cells": [
  {
   "cell_type": "code",
   "execution_count": null,
   "id": "cc432350-6fbc-41d9-b788-ca232f120338",
   "metadata": {},
   "outputs": [],
   "source": [
    "import pandas as pd\n",
    "import numpy as np\n",
    "import math\n",
    "from sklearn.linear_model import LinearRegression\n",
    "from Regressor import RegressorWrapper\n",
    "from sklearn.model_selection import train_test_split\n",
    "from sklearn.metrics import mean_squared_error, r2_score\n",
    "import matplotlib.pyplot as plt\n",
    "import missingno as msno\n",
    "import seaborn as sns\n",
    "import logging\n",
    "import re\n",
    "import sqlite3\n",
    "#Définition de constantes\n",
    "AXE_COLONNES = 1"
   ]
  },
  {
   "cell_type": "markdown",
   "id": "8a7dd43c-fd13-487d-a61c-f8e68c3e0b02",
   "metadata": {},
   "source": [
    "## Sources"
   ]
  },
  {
   "attachments": {},
   "cell_type": "markdown",
   "id": "9546b50b-8cc1-4122-8df3-509cec14640d",
   "metadata": {},
   "source": [
    "| Sources_données_originales | Date_de_mise_à_jour |\n",
    "| ---------------------------|---------------------|\n",
    "| https://www.insee.fr/fr/statistiques/serie/010760415#Telechargement | 26/01/23 |\n",
    "| https://www.insee.fr/fr/statistiques/serie/010760376#Telechargement | 26/01/23 |\n",
    "| https://www.insee.fr/fr/statistiques/7076724#onglet-1 | 11/04/23 |\n",
    "| https://www.insee.fr/fr/statistiques/7076722 | 07/04/23 |\n",
    "| https://www.insee.fr/fr/statistiques/serie/010760261#Telechargement | 26/01/23 |\n",
    "| https://www.insee.fr/fr/statistiques/serie/010760364#Telechargement | 26/01/23 |\n",
    "| https://www.insee.fr/fr/statistiques/serie/010759840#Telechargement | 26/01/23 |\n",
    "| https://www.insee.fr/fr/statistiques/serie/010759801#Telechargement | 26/01/23 |\n",
    "| https://www.insee.fr/fr/statistiques/serie/010760261 | 26/01/23 |\n",
    "| https://www.insee.fr/fr/statistiques/serie/010759955 | 26/01/23 |\n",
    "| https://www.insee.fr/fr/statistiques/serie/010760300 | 26/01/23 |\n",
    "| https://www.insee.fr/fr/statistiques/serie/010759801 | 26/01/23 |\n",
    "| https://www.data.gouv.fr/fr/datasets/election-presidentielle-des-10-et-24-avril-2022-resultats-definitifs-du-1er-tour/ | 14/04/2023 |\n",
    "| https://www.data.gouv.fr/fr/datasets/election-presidentielle-des-23-avril-et-7-mai-2017-resultats-du-1er-tour/ | 24/04/2017 |\n",
    "| https://www.data.gouv.fr/fr/datasets/election-presidentielle-2012-resultats-572124/ | 06/01/2014 |\n",
    "| https://www.data.gouv.fr/fr/datasets/election-presidentielle-2007-resultats-572120/ | 06/01/2014 |\n",
    "| https://www.data.gouv.fr/fr/datasets/bases-statistiques-communale-et-departementale-de-la-delinquance-enregistree-par-la-police-et-la-gendarmerie-nationales/ | 09/03/2023 |"
   ]
  },
  {
   "cell_type": "markdown",
   "id": "7aa8c6c0-a9bd-41f8-b132-3bc0af2761af",
   "metadata": {},
   "source": [
    "# Traitement des données sur l'emploi\n",
    "## Obtention des données"
   ]
  },
  {
   "cell_type": "code",
   "execution_count": null,
   "id": "171e8a53-a7a7-40cc-a84a-0b3ae611cb1e",
   "metadata": {},
   "outputs": [],
   "source": [
    "sns.set(rc={'figure.figsize':(20,8.27)})"
   ]
  },
  {
   "cell_type": "code",
   "execution_count": null,
   "id": "dbf829c4-8e13-443d-8053-fc77c3aefbf6",
   "metadata": {},
   "outputs": [],
   "source": [
    "def separer_numero_departement(valeur):\n",
    "    valeur_a_comparer = valeur.strip().lower()\n",
    "    if valeur_a_comparer == \"loire atlantique\":\n",
    "       return 44\n",
    "    elif valeur_a_comparer == \"alpes-maritimes\":\n",
    "       return 6"
   ]
  },
  {
   "cell_type": "code",
   "execution_count": null,
   "id": "df3c3831-6d7c-4e4f-875d-085127fdb423",
   "metadata": {},
   "outputs": [],
   "source": [
    "def afficher_noms_colonnes_avec_valeurs_manquantes(dataframe):\n",
    "  column_labels = list(dataframe.columns)\n",
    "  for column_label in column_labels:\n",
    "    if dataframe[column_label].hasnans:\n",
    "      print(column_label)"
   ]
  },
  {
   "cell_type": "code",
   "execution_count": null,
   "id": "9e805017-237f-430a-8b32-f6856108d49a",
   "metadata": {},
   "outputs": [],
   "source": [
    "sheet_names = ['Emploi LA', 'Emploi Indus LA', 'Tertiaire marchand LA', 'Tertiaire non march LA', 'Chom LA', 'Emploi AM', 'Emploi Indus AM', 'Tertiaire march AM', 'Tertiaire non march AM OK', 'Chom AM']\n",
    "dict_donnees_insee = pd.read_excel(\"./data/donnees_insee.xlsx\", sheet_name=sheet_names, skiprows=6)\n",
    "dict_donnees_insee['Tertiaire non march AM OK'] = dict_donnees_insee['Tertiaire non march AM OK'].drop(33, axis=0)\n",
    "\n",
    "for item in dict_donnees_insee.items():\n",
    "   dataframe = dict_donnees_insee[item[0]]\n",
    "   dataframe = dataframe.dropna(axis=0, how=\"all\")\n",
    "   dict_donnees_insee[item[0]] = dataframe\n",
    "   #print(item[0], str(dict_donnees_insee[item[0]].shape))\n",
    "dataframes = dict_donnees_insee.values()\n",
    "dataset_insee = pd.concat(dataframes, axis=0,keys=sheet_names).reset_index(level=1,drop=True)\n",
    "dataset_insee.insert(0,\"N°_Departement\",dataset_insee[\"Zone_geographique\"].apply(separer_numero_departement))\n",
    "dataset_insee = dataset_insee.drop(\"Zone_geographique\", axis=AXE_COLONNES)\n",
    "display(dataset_insee)"
   ]
  },
  {
   "cell_type": "markdown",
   "id": "4c8a128f-8bcd-4cf7-baa5-822681eedcde",
   "metadata": {},
   "source": [
    "## Traîtement des données manquantes sur l'emploi"
   ]
  },
  {
   "cell_type": "code",
   "execution_count": null,
   "id": "12beec0d-8b92-4662-b1aa-b52f35d10211",
   "metadata": {},
   "outputs": [],
   "source": [
    "msno.bar(dataset_insee)\n",
    "title = \"Donnees_manquantes_emploi_insee_LA_AM_avant_traitement_donnees_AM\"\n",
    "plt.title(title)\n",
    "plt.savefig(title + \".png\")\n",
    "plt.show()"
   ]
  },
  {
   "cell_type": "code",
   "execution_count": null,
   "id": "a10a283e-5520-47af-9531-24a391ca8b4b",
   "metadata": {},
   "outputs": [],
   "source": [
    "nan_values_dataframe = dataset_insee.isna()\n",
    "missing_values_row_indexes = nan_values_dataframe[(nan_values_dataframe[\"2022T1\"] == True)|(nan_values_dataframe[\"2022T2\"] == True)|(nan_values_dataframe[\"2022T3\"].isnull().any() == True)|(nan_values_dataframe[\"2022T4\"] == True)].index\n",
    "missing_values_row_indexes\n",
    "rows_w_missing_values = dataset_insee.loc[missing_values_row_indexes]\n",
    "interesting_columns = [column for column in rows_w_missing_values if \"2022\" in column]\n",
    "for column in interesting_columns :\n",
    "    print(\"\\n\"+ column)\n",
    "    print(rows_w_missing_values[column].isna())"
   ]
  },
  {
   "cell_type": "markdown",
   "id": "9a079f04-2602-4d78-86d9-53cdb68dcced",
   "metadata": {},
   "source": [
    "## Régression linéaire sur la série Tertiaire non marchand AM présentant des données manquantes\n",
    "### Détermination de la droite de régression linéaire (d'ajustement)"
   ]
  },
  {
   "cell_type": "code",
   "execution_count": null,
   "id": "7b08d0a0-a978-4d4a-9efb-09efac826eca",
   "metadata": {},
   "outputs": [],
   "source": [
    "rows_w_missing_values.columns = range(rows_w_missing_values.columns.size)\n",
    "regressor_wrappers_dict = {}\n",
    "# Régression linéaire sur les données manquantes\n",
    "previous_data_slice = slice(1,82)\n",
    "target_slice = slice(82, None)\n",
    "#Plaçage des features et des labels dans des tableaux à une dimension, Travail avec les données emploi Indus LA\n",
    "x = rows_w_missing_values.columns[previous_data_slice].to_numpy().reshape(-1,1)\n",
    "for i in range(len(rows_w_missing_values)):\n",
    "    current_series_name = rows_w_missing_values.index[i]\n",
    "    y = rows_w_missing_values.iloc[i,previous_data_slice].to_numpy().reshape(-1,1)\n",
    "    #Découpage des données en jeux d'entraînement et de test\n",
    "    #splitted_datasets_tuple = train_test_split(x, y, test_size=0.2, train_size=0.8)\n",
    "    #Préparation des données à la régression linéaire\n",
    "    #X_train, X_test, y_train, y_test = map(lambda dataset : dataset.reshape(1,dataset.shape[0]), splitted_datasets_tuple)\n",
    "    \n",
    "    regression_model = LinearRegression()\n",
    "    # Adapter les données (entraînement du modèle)\n",
    "    regression_model.fit(x,y)\n",
    "    # Prédiction\n",
    "    y_predicted = regression_model.predict(x)\n",
    "    \n",
    "    regressor_wrappers_dict[current_series_name] = RegressorWrapper(regression_model, x, y, y_predicted)\n",
    "    r2 = r2_score(y, y_predicted)\n",
    "    corr_coef = math.sqrt(r2)\n",
    "    print(corr_coef)\n",
    "    print(regression_model.intercept_)"
   ]
  },
  {
   "cell_type": "code",
   "execution_count": null,
   "id": "ae2c9bff-73a5-47ec-8094-08b0d82aaf7b",
   "metadata": {},
   "outputs": [],
   "source": [
    "ticks_labels = list(dataset_insee.filter(axis=AXE_COLONNES, regex=\"\\d{4}T4\").columns)\n",
    "x_y_axis_dataframe_slicing = slice(1,None)\n",
    "title = \"Séries avec des données manquantes\"\n",
    "for row_label in rows_w_missing_values.index:\n",
    "    x = list(rows_w_missing_values.columns)[x_y_axis_dataframe_slicing]\n",
    "    y = rows_w_missing_values.loc[row_label].iloc[x_y_axis_dataframe_slicing]\n",
    "    plt.xticks(range(0,85,4),labels=ticks_labels)\n",
    "    plt.plot(x,y,label=row_label)\n",
    "for name,value in regressor_wrappers_dict.items():\n",
    "    plt.plot(x[0:81], value.y_predicted, label=\"Régression linéaire \" + name + \" Équation : \" + value.get_linear_equation())\n",
    "plt.title(title)\n",
    "plt.legend()\n",
    "plt.savefig(title + \".png\")\n",
    "plt.show()"
   ]
  },
  {
   "cell_type": "markdown",
   "id": "23da4f31-f666-46ae-921e-76b24f31d813",
   "metadata": {},
   "source": [
    "### Analyse des résidus pour l'emploi dans le secteur tertiaire en Alpes Maritimes"
   ]
  },
  {
   "cell_type": "code",
   "execution_count": null,
   "id": "8ccb6639-4706-4aee-b2a2-2dc1213e40e3",
   "metadata": {},
   "outputs": [],
   "source": [
    "tnm_reg_wrapper = regressor_wrappers_dict[rows_w_missing_values.index[1]]\n",
    "residuals = tnm_reg_wrapper.get_residuals()\n",
    "title = \"Résidus Tertaire non marchand Alpes Maritimes (y - ymodèle)\"\n",
    "plt.xticks(range(0,85,4))\n",
    "plt.title(title)\n",
    "plt.plot(tnm_reg_wrapper.x.tolist(),residuals)\n",
    "plt.savefig(title + \".png\")"
   ]
  },
  {
   "cell_type": "markdown",
   "id": "7eddb324-def2-4988-8b7b-425f1435c01b",
   "metadata": {},
   "source": [
    "### Remplissage des valeurs manquantes avec les prédictions du modèle de Régression linéaire sur les données de l'emploi dans le secteur marchand en Alpes-Maritimes"
   ]
  },
  {
   "cell_type": "code",
   "execution_count": null,
   "id": "777ab850-f97b-4e51-a9d6-d7fdd6424d54",
   "metadata": {},
   "outputs": [],
   "source": [
    "nan_values = rows_w_missing_values[rows_w_missing_values.columns[rows_w_missing_values.isnull().any()]]\n",
    "for x in nan_values :\n",
    "    row_label, column_label = ('Tertiaire non march AM OK',dataset_insee.columns[x])\n",
    "    cell = dataset_insee.at[row_label, column_label]\n",
    "    if cell != np.nan:\n",
    "        dataset_insee.at[row_label, column_label] = tnm_reg_wrapper.predict(np.array([[x]]))"
   ]
  },
  {
   "cell_type": "markdown",
   "id": "ea6b604a-55dd-4873-8d82-cfd64ca28425",
   "metadata": {},
   "source": [
    "### Affichage de graphiques montrant les valeurs manquantes après le traitement des données du secteur Tertiaire non marchand Alpes Maritimes"
   ]
  },
  {
   "cell_type": "code",
   "execution_count": null,
   "id": "9c62ce42-0c27-489e-a120-216a384e86fc",
   "metadata": {},
   "outputs": [],
   "source": [
    "msno.bar(dataset_insee)\n",
    "title = \"Donnees_manquantes_emploi_insee_LA_AM_après_traitement_donnees_AM\"\n",
    "plt.title(title)\n",
    "plt.savefig(title + \".png\")\n",
    "plt.show()"
   ]
  },
  {
   "cell_type": "code",
   "execution_count": null,
   "id": "daf01cc9-c369-4a4f-86f0-f2e52b853911",
   "metadata": {},
   "outputs": [],
   "source": [
    "nan_values_dataframe = dataset_insee.isna()\n",
    "missing_values_row_indexes = nan_values_dataframe[(nan_values_dataframe[\"2022T1\"] == True)|(nan_values_dataframe[\"2022T2\"] == True)|(nan_values_dataframe[\"2022T3\"].isnull().any() == True)|(nan_values_dataframe[\"2022T4\"] == True)].index\n",
    "missing_values_row_indexes\n",
    "rows_w_missing_values = dataset_insee.loc[missing_values_row_indexes]\n",
    "rows_w_missing_values.isna().sum(axis=AXE_COLONNES)"
   ]
  },
  {
   "cell_type": "markdown",
   "id": "34778a4a-6cb9-413e-b77e-b88aa84078a4",
   "metadata": {},
   "source": [
    "## Traitement des données manquantes sur la série Emploi Indus LA"
   ]
  },
  {
   "cell_type": "markdown",
   "id": "2bf1de2a-9550-4274-90ee-ff1ef72eaf5e",
   "metadata": {},
   "source": [
    "### Essai de la méthode d'interpolation linéaire "
   ]
  },
  {
   "cell_type": "code",
   "execution_count": null,
   "id": "211281a6-6b6f-4f69-96df-1b4a7632b989",
   "metadata": {},
   "outputs": [],
   "source": [
    "dataset_insee = dataset_insee.interpolate(method=\"linear\")\n",
    "dataset_insee[\"2022T2\"]"
   ]
  },
  {
   "cell_type": "markdown",
   "id": "9b7c53f4-afd0-44e3-aa19-20db300a98db",
   "metadata": {},
   "source": [
    "### Affichage des données manquantes après la méthode d'interpolation linéaire"
   ]
  },
  {
   "cell_type": "code",
   "execution_count": null,
   "id": "128effe8-0a75-471d-9068-851bf716dece",
   "metadata": {},
   "outputs": [],
   "source": [
    "msno.bar(dataset_insee)\n",
    "title = \"Donnees_manquantes_emploi_insee_LA_AM_après_traitement_donnees_AM_+_Interpolation_linéaire\"\n",
    "plt.title(title)\n",
    "plt.savefig(title + \".png\")\n",
    "plt.show()"
   ]
  },
  {
   "cell_type": "markdown",
   "id": "0963a066-1885-4ffb-970c-c81854fa7add",
   "metadata": {},
   "source": [
    "## Affichage de graphiques décrivant les données"
   ]
  },
  {
   "cell_type": "code",
   "execution_count": null,
   "id": "8a498ad9-c15b-44f1-ac19-c42fa2b6f459",
   "metadata": {
    "scrolled": true
   },
   "outputs": [],
   "source": [
    "dataset_insee_44 = dataset_insee[dataset_insee[\"N°_Departement\"] == 44]\n",
    "dataset_insee_44"
   ]
  },
  {
   "cell_type": "code",
   "execution_count": null,
   "id": "84479fd3-b561-463c-9180-9076b25e86da",
   "metadata": {},
   "outputs": [],
   "source": [
    "dataset_insee_06 = dataset_insee[dataset_insee[\"N°_Departement\"] == 6]\n",
    "dataset_insee_06"
   ]
  },
  {
   "cell_type": "code",
   "execution_count": null,
   "id": "3be77018-87ad-4a77-8bed-60156c758635",
   "metadata": {},
   "outputs": [],
   "source": [
    "chomage_LA = dataset_insee_44.loc['Chom LA'].iloc[1:]\n",
    "chomage_LA"
   ]
  },
  {
   "cell_type": "code",
   "execution_count": null,
   "id": "e8643c97-b948-4a6c-8276-6b7a8c548b59",
   "metadata": {},
   "outputs": [],
   "source": [
    "dataframes = [dataset_insee_44, dataset_insee_06]\n",
    "x_y_axis_dataframe_slicing = slice(1,None)\n",
    "ticks_labels = list(dataset_insee.filter(axis=AXE_COLONNES, regex=\"\\d{4}T4\").columns)\n",
    "for i in range(len(dataframes)):\n",
    "    dataframe = dataframes[i]\n",
    "    departement = \"Loire_Atlantique\" if i == 0 else \"Alpes_Maritimes\"\n",
    "    title = \"Emploi_\" + departement\n",
    "    for row_label in dataframe.index:\n",
    "        x = list(dataframe.columns)[x_y_axis_dataframe_slicing]\n",
    "        y = dataframe.loc[row_label].iloc[x_y_axis_dataframe_slicing]\n",
    "        plt.xticks(range(0,85,4),labels=ticks_labels)\n",
    "        plt.plot(x,y,label=row_label)\n",
    "    plt.title(title)\n",
    "    plt.legend()\n",
    "    plt.savefig(title + \".png\")\n",
    "    plt.show()"
   ]
  },
  {
   "cell_type": "code",
   "execution_count": null,
   "id": "f4d6beef-3f60-4395-821b-d41dcfa6fa89",
   "metadata": {},
   "outputs": [],
   "source": [
    "proportions = []\n",
    "for i in range(len(dataframes)) :\n",
    "    zone = \"LA\" if i == 0 else \"AM\"\n",
    "    libelle_colonne_emploi = \"Emploi {}\".format(zone)\n",
    "    libelle_colonne_num_departement = \"N°_Departement\"\n",
    "    dataframe = dataframes[i].drop(libelle_colonne_num_departement, axis=AXE_COLONNES)\n",
    "    display(afficher_noms_colonnes_avec_valeurs_manquantes(dataframe))\n",
    "    libelles_lignes_emploi_et_chomage = [libelle_colonne_emploi,\"Chom {}\".format(zone)]\n",
    "    serie_emploi_total = dataframe.loc[libelle_colonne_emploi]\n",
    "    dataframe_sans_emploi_total_ni_chomage = dataframe.drop(libelles_lignes_emploi_et_chomage, axis=0)\n",
    "    proportion_emploi_par_secteur = dataframe_sans_emploi_total_ni_chomage.divide(serie_emploi_total).mul(100)\n",
    "    display(proportion_emploi_par_secteur)\n",
    "    display(proportion_emploi_par_secteur.sum(axis=0))\n",
    "    proportions.append(proportion_emploi_par_secteur)"
   ]
  },
  {
   "cell_type": "code",
   "execution_count": null,
   "id": "dbefa92d-2e63-42fd-b1ea-4863d6c181fa",
   "metadata": {},
   "outputs": [],
   "source": [
    "trimestres_interessants = [\"2007T2\",\"2012T2\",\"2017T2\",\"2022T2\"]\n",
    "dataset_insee_proportions_emploi_LA = proportions[0]\n",
    "dataset_insee_proportions_emploi_AM = proportions[1]\n",
    "proportions_donnees_elections_LA = dataset_insee_proportions_emploi_LA[trimestres_interessants]\n",
    "proportions_donnees_elections_AM = dataset_insee_proportions_emploi_AM[trimestres_interessants]\n",
    "display(proportions_donnees_elections_LA)\n",
    "proportions_elections = [proportions_donnees_elections_LA,proportions_donnees_elections_AM]\n",
    "display(proportions_elections)"
   ]
  },
  {
   "cell_type": "code",
   "execution_count": null,
   "id": "3d831484-a7e3-4606-91fc-7ff7433e1893",
   "metadata": {},
   "outputs": [],
   "source": [
    "for i in range(len(proportions_elections)) :\n",
    "    proportion = proportions_elections[i]\n",
    "    zone = \"Loire-Atlantique\" if i == 0 else \"Alpes-Maritimes\"\n",
    "    for column in proportion.columns:\n",
    "        title = 'Répartition de l\\'emploi par secteur en {} pendant le 1er tour des élections de {}'.format(zone, column[0:4])\n",
    "        fig, ax = plt.subplots()\n",
    "        plt.title(title)\n",
    "        ax.pie(proportion[column], autopct='%1.1f%%')\n",
    "        plt.savefig(title + \".png\")"
   ]
  },
  {
   "cell_type": "markdown",
   "id": "aa32a320-5e1f-4755-b44d-3168cbf31ae2",
   "metadata": {},
   "source": [
    "## Traitement des données des élections\n",
    "### Obtention d'un jeu de données par candidats"
   ]
  },
  {
   "cell_type": "code",
   "execution_count": null,
   "id": "71487dd8-877f-41a4-9792-2f4473f29fdd",
   "metadata": {},
   "outputs": [],
   "source": [
    "donnees_1er_tour_2007 = pd.read_excel(\"./data/Presidentielle_2007_Tour_1.xls\", sheet_name=\"Départements T1\")\n",
    "donnees_1er_tour_2012 = pd.read_excel(\"./data/Presidentielle_2012_Tour_1.xls\", sheet_name=\"Départements T1\")\n",
    "donnees_1er_tour_2017 = pd.read_excel(\"./data/Presidentielle_2017_Resultats_Tour_1_c.xls\", sheet_name=\"Départements Tour 1\")\n",
    "donnees_1er_tour_2022 = pd.read_excel(\"./data/resultats-par-niveau-dpt-t1-france-entiere.xlsx\")\n",
    "global_columns = ['Code du département', 'Libellé du département', 'Inscrits',\n",
    "       'Abstentions', '% Abs/Ins', 'Votants', '% Vot/Ins', 'Blancs et nuls',\n",
    "       '% Blancs/Ins', '% Blancs/Vot', '% Nuls/Ins', '% Nuls/Vot', 'Exprimés',\n",
    "       '% Exp/Ins', '% Exp/Vot']\n",
    "donnees_1er_tour_2022 = donnees_1er_tour_2022.drop(\"Etat saisie\", axis=AXE_COLONNES)\n",
    "donnees_1er_tour_2022.insert(7,\"Blancs et nuls\",donnees_1er_tour_2022[\"Blancs\"] + donnees_1er_tour_2022[\"Nuls\"])\n",
    "\n",
    "dataframes_2017_2022 = [donnees_1er_tour_2017, donnees_1er_tour_2022]\n",
    "for i in range(len(dataframes_2017_2022)):\n",
    "    dataframe = dataframes_2017_2022[i]\n",
    "    display(dataframe.columns)\n",
    "    percentage_of_null_votes_and_blank_ballots_among_registered_people_column_name = \"% BlNuls/Ins\"\n",
    "    dataframe.insert(8,percentage_of_null_votes_and_blank_ballots_among_registered_people_column_name,(dataframe[\"Blancs et nuls\"] / dataframe[\"Inscrits\"]) * 100)    \n",
    "    percentage_of_null_votes_and_blank_ballots_among_voters_column_name = \"% BlNuls/Vot\"\n",
    "    dataframe.insert(9,percentage_of_null_votes_and_blank_ballots_among_voters_column_name,(dataframe[\"Blancs et nuls\"] / dataframe[\"Votants\"]) * 100)\n",
    "    if i == 0 :\n",
    "        global_columns.append(percentage_of_null_votes_and_blank_ballots_among_registered_people_column_name)\n",
    "        global_columns.append(percentage_of_null_votes_and_blank_ballots_among_voters_column_name)\n",
    "global_columns"
   ]
  },
  {
   "cell_type": "code",
   "execution_count": null,
   "id": "c73d52e1-6fec-40b2-9262-9068ce4a5e2e",
   "metadata": {},
   "outputs": [],
   "source": [
    "\n",
    "donnees_1er_tour_2017[\"Code du département\"] = donnees_1er_tour_2017[\"Code du département\"].astype(str)\n",
    "donnees_1er_tour_2017[\"Code du département\"].unique()\n",
    "donnees_1er_tour_2017_44_06 = donnees_1er_tour_2017[(donnees_1er_tour_2017[\"Code du département\"] == '44') | (donnees_1er_tour_2017[\"Code du département\"] == '06')]\n",
    "display(msno.bar(donnees_1er_tour_2017_44_06))\n",
    "display(donnees_1er_tour_2017_44_06.columns)\n",
    "#Isolement des candidats\n",
    "candidates_df = []\n",
    "columns = ['Sexe', 'Nom', 'Prénom', 'Voix', '% Voix/Ins', '% Voix/Exp']\n",
    "for i in range(11):\n",
    "    regex = '(Sexe|Nom|Prénom|Voix|% Voix/Ins|% Voix/Exp)'\n",
    "    if i > 0 :\n",
    "        regex = regex + '\\.' + str(i)\n",
    "        print(regex)\n",
    "    regex = regex + '$'\n",
    "    candidates = donnees_1er_tour_2017_44_06.filter(regex=regex)\n",
    "    candidates.columns = columns\n",
    "    display(candidates)\n",
    "    candidates_df.append(candidates)\n",
    "total_candidates = pd.concat(candidates_df, axis=0)\n",
    "total_candidates\n",
    "global_results = donnees_1er_tour_2017_44_06[global_columns]\n",
    "display(global_results)\n",
    "\n",
    "election_results_2017 = global_results.join(total_candidates, how='inner')\n",
    "election_results_2017\n",
    "#Assignation à une opinion politique\n",
    "#Aggrégation des résultats"
   ]
  },
  {
   "cell_type": "markdown",
   "id": "85e4bd7c-8457-4a5e-ab63-a9ff32636043",
   "metadata": {},
   "source": [
    "## Catégrorisation des candidats par bord politique"
   ]
  },
  {
   "cell_type": "code",
   "execution_count": null,
   "id": "90ce8c03-8f8f-4f6f-be30-dca22a0dce15",
   "metadata": {},
   "outputs": [],
   "source": []
  },
  {
   "cell_type": "code",
   "execution_count": null,
   "id": "fe5cfd37-792a-4c95-bbfa-5852c03e901f",
   "metadata": {},
   "outputs": [],
   "source": [
    "donnes_securite_dept = pd.read_csv(\"./data/donnee-securité.csv\",\n",
    "                                   sep=';')\n",
    "# Filtrer les données de sécurité sur lles départements 44 et 06\n",
    "donnees_securite_44_06 = donnes_securite_dept[\n",
    " (donnes_securite_dept['Code.département'] == '6') | (donnes_securite_dept['Code.département'] == '06') | (\n",
    "                donnes_securite_dept['Code.département'] == '44')]\n",
    "\n",
    "display(donnees_securite_44_06)\n",
    "display(donnees_securite_44_06)"
   ]
  }
 ],
 "metadata": {
  "kernelspec": {
   "display_name": "Python 3 (ipykernel)",
   "language": "python",
   "name": "python3"
  },
  "language_info": {
   "codemirror_mode": {
    "name": "ipython",
    "version": 3
   },
   "file_extension": ".py",
   "mimetype": "text/x-python",
   "name": "python",
   "nbconvert_exporter": "python",
   "pygments_lexer": "ipython3",
   "version": "3.11.0"
  }
 },
 "nbformat": 4,
 "nbformat_minor": 5
}
